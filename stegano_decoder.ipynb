{
 "cells": [
  {
   "cell_type": "code",
   "execution_count": 7,
   "id": "b6f7d398",
   "metadata": {},
   "outputs": [],
   "source": [
    "def reveal_text_from_image(output_image_path, key):\n",
    "    # Buka gambar\n",
    "    img = Image.open(gambar2.jpg)\n",
    "    pixels = img.load()\n",
    "\n",
    "    # Baca teks terenkripsi dari gambar\n",
    "    encrypted_text = ''\n",
    "    for i in range(img.width):\n",
    "        for j in range(img.height):\n",
    "            pixel_value = format(pixels[i, j][0], '08b')[-1]\n",
    "            encrypted_text += pixel_value\n",
    "\n",
    "    # Dekripsi teks terenkripsi menggunakan OTP\n",
    "    decrypted_text = decrypt_otp(encrypted_text, key)\n",
    "\n",
    "    return decrypted_text\n"
   ]
  },
  {
   "cell_type": "code",
   "execution_count": null,
   "id": "250ff846",
   "metadata": {},
   "outputs": [],
   "source": []
  }
 ],
 "metadata": {
  "kernelspec": {
   "display_name": "Python 3 (ipykernel)",
   "language": "python",
   "name": "python3"
  },
  "language_info": {
   "codemirror_mode": {
    "name": "ipython",
    "version": 3
   },
   "file_extension": ".py",
   "mimetype": "text/x-python",
   "name": "python",
   "nbconvert_exporter": "python",
   "pygments_lexer": "ipython3",
   "version": "3.11.3"
  }
 },
 "nbformat": 4,
 "nbformat_minor": 5
}
