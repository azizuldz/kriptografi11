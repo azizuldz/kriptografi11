{
 "cells": [
  {
   "cell_type": "code",
   "execution_count": 3,
   "id": "c8229e54",
   "metadata": {},
   "outputs": [],
   "source": [
    "from PIL import Image\n",
    "\n",
    "def string_to_bin(message):\n",
    "    binary_message = ''.join(format(ord(char), '08b') for char in message)\n",
    "    return binary_message\n",
    "\n",
    "def encode_lsb(image_path, message):\n",
    "    img = Image.open(image_path)\n",
    "    binary_message = string_to_bin(message)\n",
    "\n",
    "    data_index = 0\n",
    "    img_data = list(img.getdata())\n",
    "\n",
    "    for i in range(len(img_data)):\n",
    "        pixel = list(img_data[i])\n",
    "\n",
    "        for j in range(3):  # Loop through RGB channels\n",
    "            if data_index < len(binary_message):\n",
    "                pixel[j] = pixel[j] & ~1 | int(binary_message[data_index])\n",
    "                data_index += 1\n",
    "\n",
    "        img_data[i] = tuple(pixel)\n",
    "\n",
    "    encoded_img = Image.new(img.mode, img.size)\n",
    "    encoded_img.putdata(img_data)\n",
    "    encoded_img.save(\"encoded_image.png\")\n",
    "\n",
    "if __name__ == \"__main__\":\n",
    "    image_path = \"gambar.jpg\"\n",
    "    message = \"Hello, Azizul HERE!!!\"\n",
    "\n",
    "    encode_lsb(image_path, message)\n"
   ]
  },
  {
   "cell_type": "code",
   "execution_count": null,
   "id": "cf708c63",
   "metadata": {},
   "outputs": [],
   "source": []
  }
 ],
 "metadata": {
  "kernelspec": {
   "display_name": "Python 3 (ipykernel)",
   "language": "python",
   "name": "python3"
  },
  "language_info": {
   "codemirror_mode": {
    "name": "ipython",
    "version": 3
   },
   "file_extension": ".py",
   "mimetype": "text/x-python",
   "name": "python",
   "nbconvert_exporter": "python",
   "pygments_lexer": "ipython3",
   "version": "3.11.3"
  }
 },
 "nbformat": 4,
 "nbformat_minor": 5
}
